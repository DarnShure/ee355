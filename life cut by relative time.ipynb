{
  "nbformat": 4,
  "nbformat_minor": 0,
  "metadata": {
    "colab": {
      "provenance": [],
      "authorship_tag": "ABX9TyPsj/S6ZU7Wpg9qtQMd/PGG",
      "include_colab_link": true
    },
    "kernelspec": {
      "name": "python3",
      "display_name": "Python 3"
    },
    "language_info": {
      "name": "python"
    }
  },
  "cells": [
    {
      "cell_type": "markdown",
      "metadata": {
        "id": "view-in-github",
        "colab_type": "text"
      },
      "source": [
        "<a href=\"https://colab.research.google.com/github/lilBunny-web/ee355/blob/master/life%20cut%20by%20relative%20time.ipynb\" target=\"_parent\"><img src=\"https://colab.research.google.com/assets/colab-badge.svg\" alt=\"Open In Colab\"/></a>"
      ]
    },
    {
      "cell_type": "code",
      "execution_count": 16,
      "metadata": {
        "colab": {
          "base_uri": "https://localhost:8080/"
        },
        "id": "likOQlJ69Hy_",
        "outputId": "8ed1d972-a6cb-4c5f-c713-c75fb2551c94"
      },
      "outputs": [
        {
          "output_type": "stream",
          "name": "stdout",
          "text": [
            "[1.8701222535385966, 3.4973572431802795, 6.540485609045838, 12.231507686425564, 22.874414718712845, 42.777952002135706, 79.99999999999997]\n"
          ]
        }
      ],
      "source": [
        "import numpy as np\n",
        "import math\n",
        "STAGES = 7\n",
        "\n",
        "steps = ([x*math.log(80)/STAGES for x in range(1, STAGES+1)])\n",
        "key_ages = [math.exp(x) for x in steps]\n",
        "print(key_ages)"
      ]
    },
    {
      "cell_type": "code",
      "source": [],
      "metadata": {
        "id": "c18qCUMt9zP6"
      },
      "execution_count": null,
      "outputs": []
    }
  ]
}